{
  "cells": [
    {
      "cell_type": "code",
      "execution_count": null,
      "metadata": {
        "id": "PmQFNaqdCEgs"
      },
      "outputs": [],
      "source": [
        "import zipfile\n",
        "import tensorflow as tf\n",
        "from keras.preprocessing.image import ImageDataGenerator\n",
        "from tensorflow.keras.optimizers import RMSprop\n",
        "from tensorflow.keras.optimizers import Adam\n",
        "from tensorflow.keras import layers\n",
        "from tensorflow.keras import Model\n",
        "from tensorflow.keras.applications import Xception\n",
        "from tensorflow.keras.applications import MobileNetV2\n",
        "import numpy as np\n",
        "import matplotlib.pyplot as plt"
      ]
    },
    {
      "cell_type": "code",
      "source": [
        "from google.colab import drive\n",
        "drive.mount('/content/drive')"
      ],
      "metadata": {
        "id": "dLPDLcezul4p"
      },
      "execution_count": null,
      "outputs": []
    },
    {
      "cell_type": "markdown",
      "metadata": {
        "id": "hhhhJF2nDqb-"
      },
      "source": [
        "LOAD DATA"
      ]
    },
    {
      "cell_type": "code",
      "execution_count": null,
      "metadata": {
        "id": "thVuIff0Cwx2"
      },
      "outputs": [],
      "source": [
        "local_file = 'train.zip'\n",
        "zip_ref = zipfile.ZipFile(local_file, 'r')\n",
        "zip_ref.extractall('data/train')\n",
        "zip_ref.close()"
      ]
    },
    {
      "cell_type": "code",
      "source": [
        "local_file = 'test.zip'\n",
        "zip_ref = zipfile.ZipFile(local_file, 'r')\n",
        "zip_ref.extractall('data/test')\n",
        "zip_ref.close()"
      ],
      "metadata": {
        "id": "R5lqHJGieFpE"
      },
      "execution_count": null,
      "outputs": []
    },
    {
      "cell_type": "code",
      "execution_count": null,
      "metadata": {
        "id": "lcWzN3_9DRJg"
      },
      "outputs": [],
      "source": [
        "train_dir = '/content/drive/MyDrive/CAPSTONE/train'\n",
        "validation_dir = '/content/drive/MyDrive/CAPSTONE/test'"
      ]
    },
    {
      "cell_type": "markdown",
      "metadata": {
        "id": "yMNBrR2vDzPH"
      },
      "source": [
        "LOAD TRANFER LEARNING"
      ]
    },
    {
      "cell_type": "code",
      "execution_count": null,
      "metadata": {
        "id": "Dg3Uv-8zDiTf"
      },
      "outputs": [],
      "source": [
        "tfmodel =  Xception(weights = 'imagenet',\n",
        "                                input_shape = (150, 150, 3),\n",
        "                                include_top = False\n",
        "                                )\n"
      ]
    },
    {
      "cell_type": "code",
      "execution_count": null,
      "metadata": {
        "id": "_VjMAPlXDmB-"
      },
      "outputs": [],
      "source": [
        "for layer in tfmodel.layers:\n",
        "    layer.trainable = False\n",
        "last_layer =  tfmodel.output"
      ]
    },
    {
      "cell_type": "markdown",
      "metadata": {
        "id": "HBCf-CjkD2fg"
      },
      "source": [
        "DATA AUGMENTATION"
      ]
    },
    {
      "cell_type": "code",
      "execution_count": null,
      "metadata": {
        "id": "j13zj0cOD8Ed"
      },
      "outputs": [],
      "source": [
        "train_datagen = ImageDataGenerator(\n",
        "    rescale=1.0/255.0,\n",
        "    rotation_range=40,\n",
        "    width_shift_range=0.2,\n",
        "    height_shift_range=0.2,\n",
        "    shear_range=0.2,\n",
        "    zoom_range=0.2,\n",
        "    horizontal_flip=True,\n",
        "    fill_mode='nearest'\n",
        ")"
      ]
    },
    {
      "cell_type": "code",
      "execution_count": null,
      "metadata": {
        "id": "EWFdz600D_q_"
      },
      "outputs": [],
      "source": [
        "train_generator=  train_datagen.flow_from_directory(\n",
        "    train_dir,\n",
        "    target_size=(150, 150),\n",
        "    batch_size=20,\n",
        "    class_mode='categorical'\n",
        ")"
      ]
    },
    {
      "cell_type": "code",
      "execution_count": null,
      "metadata": {
        "id": "Qlm3HXiEECfu"
      },
      "outputs": [],
      "source": [
        "val_datagen = ImageDataGenerator(rescale = 1.0/255.0)"
      ]
    },
    {
      "cell_type": "code",
      "execution_count": null,
      "metadata": {
        "id": "KZ0SPlPAEEXG"
      },
      "outputs": [],
      "source": [
        "val_generator = val_datagen.flow_from_directory(validation_dir,\n",
        "                                                target_size = (150, 150),\n",
        "                                                batch_size = 32,\n",
        "                                                class_mode = 'categorical'\n",
        "                                                )"
      ]
    },
    {
      "cell_type": "code",
      "source": [
        "np.random.seed(42)\n",
        "tf.random.set_seed(42)"
      ],
      "metadata": {
        "id": "w3aSJdKISVue"
      },
      "execution_count": null,
      "outputs": []
    },
    {
      "cell_type": "markdown",
      "metadata": {
        "id": "iXA3nJ7lEMTe"
      },
      "source": [
        "MODEL Xception"
      ]
    },
    {
      "cell_type": "code",
      "execution_count": null,
      "metadata": {
        "id": "ebRExq_6ENKG"
      },
      "outputs": [],
      "source": [
        "x = last_layer\n",
        "x = layers.Flatten()(x)\n",
        "x = layers.BatchNormalization(gamma_initializer=tf.keras.initializers.RandomNormal(mean=0.0, stddev=1e-3, seed=42),\n",
        "                       beta_initializer=tf.keras.initializers.RandomNormal(mean=0.0, stddev=1e-3, seed=42))(x)\n",
        "x = layers.Dense(128, activation='relu')(x)\n",
        "x = layers.BatchNormalization(gamma_initializer=tf.keras.initializers.RandomNormal(mean=0.0, stddev=1e-3, seed=42),\n",
        "                       beta_initializer=tf.keras.initializers.RandomNormal(mean=0.0, stddev=1e-3, seed=42))(x)\n",
        "x = layers.Dense(7, activation='softmax',kernel_regularizer=tf.keras.regularizers.l2(0.01))(x)"
      ]
    },
    {
      "cell_type": "code",
      "source": [
        "model = Model(tfmodel.input, x)"
      ],
      "metadata": {
        "id": "mZlnMkLjPeoe"
      },
      "execution_count": null,
      "outputs": []
    },
    {
      "cell_type": "code",
      "execution_count": null,
      "metadata": {
        "id": "Cr66NSoAKJZ4"
      },
      "outputs": [],
      "source": [
        "lr_schedule = tf.keras.optimizers.schedules.ExponentialDecay(\n",
        "    initial_learning_rate=0.001,\n",
        "    decay_steps=10000,\n",
        "    decay_rate=0.9\n",
        ")"
      ]
    },
    {
      "cell_type": "code",
      "execution_count": null,
      "metadata": {
        "id": "V-JYOL84EcMX"
      },
      "outputs": [],
      "source": [
        "model.compile(\n",
        "        optimizer=RMSprop(learning_rate=lr_schedule),\n",
        "        loss='categorical_crossentropy',\n",
        "        metrics=['accuracy'])"
      ]
    },
    {
      "cell_type": "code",
      "execution_count": null,
      "metadata": {
        "id": "WStfhQyAILNX"
      },
      "outputs": [],
      "source": [
        "early_stopping = tf.keras.callbacks.EarlyStopping(\n",
        "    monitor='val_loss',\n",
        "    patience=5,  # Number of epochs with no improvement after which training will be stopped\n",
        "    restore_best_weights=True\n",
        ")"
      ]
    },
    {
      "cell_type": "code",
      "source": [
        "model.summary()"
      ],
      "metadata": {
        "id": "4qvwLiAPkcya"
      },
      "execution_count": null,
      "outputs": []
    },
    {
      "cell_type": "code",
      "execution_count": null,
      "metadata": {
        "id": "uHPf3OAOEeRX"
      },
      "outputs": [],
      "source": [
        "history = model.fit(\n",
        "        train_generator,\n",
        "        epochs=50,\n",
        "        validation_data = val_generator,\n",
        "        shuffle=False,\n",
        "        # callbacks=[early_stopping],\n",
        "        verbose = 1)"
      ]
    },
    {
      "cell_type": "code",
      "execution_count": null,
      "metadata": {
        "id": "FsdNf7r5Ikf_"
      },
      "outputs": [],
      "source": [
        "validation_loss, validation_accuracy = model.evaluate(val_generator)\n",
        "print(f\"Validation Accuracy: {validation_accuracy}\")"
      ]
    },
    {
      "cell_type": "code",
      "source": [
        "# Plot training and validation accuracy values\n",
        "plt.plot(history.history['accuracy'])\n",
        "plt.plot(history.history['val_accuracy'])\n",
        "plt.title('Model Accuracy')\n",
        "plt.xlabel('Epoch')\n",
        "plt.ylabel('Accuracy')\n",
        "plt.legend(['Train', 'Validation'], loc='upper left')\n",
        "plt.show()\n",
        "\n",
        "# Plot training and validation loss values\n",
        "plt.plot(history.history['loss'])\n",
        "plt.plot(history.history['val_loss'])\n",
        "plt.title('Model Loss')\n",
        "plt.xlabel('Epoch')\n",
        "plt.ylabel('Loss')\n",
        "plt.legend(['Train', 'Validation'], loc='upper left')\n",
        "plt.show()"
      ],
      "metadata": {
        "id": "M2DcfHkCiXJy"
      },
      "execution_count": null,
      "outputs": []
    },
    {
      "cell_type": "code",
      "execution_count": null,
      "metadata": {
        "id": "Y3uP9NPmJe4H"
      },
      "outputs": [],
      "source": [
        "num_images_to_visualize = 6\n",
        "\n",
        "for i in range(num_images_to_visualize):\n",
        "    # Get a batch of validation data\n",
        "    batch = val_generator.next()\n",
        "\n",
        "    # Extract images and labels from the batch\n",
        "    images, labels = batch\n",
        "\n",
        "    # Make predictions\n",
        "    predictions = model.predict(images)\n",
        "\n",
        "    # Get the index of the predicted class for each image\n",
        "    predicted_classes = np.argmax(predictions, axis=1)\n",
        "\n",
        "    # Display the images along with their actual and predicted labels\n",
        "    for j in range(images.shape[0]):\n",
        "        plt.imshow(images[j])\n",
        "        actual_label = np.argmax(labels[j])\n",
        "        predicted_label = predicted_classes[j]\n",
        "\n",
        "        # Check if the prediction is correct or not\n",
        "        prediction_correct = actual_label == predicted_label\n",
        "\n",
        "        plt.title(f\"Actual: {actual_label}, Predicted: {predicted_label}, Correct: {prediction_correct}\")\n",
        "        plt.show()"
      ]
    }
  ],
  "metadata": {
    "accelerator": "GPU",
    "colab": {
      "provenance": [],
      "gpuType": "T4"
    },
    "kernelspec": {
      "display_name": "Python 3",
      "name": "python3"
    },
    "language_info": {
      "name": "python"
    }
  },
  "nbformat": 4,
  "nbformat_minor": 0
}